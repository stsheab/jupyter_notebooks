{
 "cells": [
  {
   "cell_type": "code",
   "execution_count": 1,
   "metadata": {
    "colab": {},
    "colab_type": "code",
    "id": "DWr6cvb9pS3J"
   },
   "outputs": [],
   "source": [
    "import cv2 as cv\n",
    "import torch\n",
    "import random\n",
    "import numpy as np\n",
    "import matplotlib.pyplot as plt\n",
    "\n",
    "random.seed(0)\n",
    "np.random.seed(0)\n",
    "torch.manual_seed(0)\n",
    "torch.cuda.manual_seed(0)\n",
    "torch.backends.cudnn.deterministic = True"
   ]
  },
  {
   "cell_type": "code",
   "execution_count": 2,
   "metadata": {},
   "outputs": [],
   "source": [
    "# from processed to tensor\n",
    "train = torch.load(r'D:\\!!!data_\\MNIST\\processed\\training.pt')\n",
    "test = torch.load(r'D:\\!!!data_\\MNIST\\processed\\test.pt')\n",
    "X_train = train[0]\n",
    "y_train = train[1]\n",
    "X_test = test[0]\n",
    "y_test = test[1]"
   ]
  },
  {
   "cell_type": "code",
   "execution_count": 3,
   "metadata": {
    "colab": {
     "base_uri": "https://localhost:8080/",
     "height": 35
    },
    "colab_type": "code",
    "id": "hMhsAedlrQF5",
    "outputId": "ae08bd21-79ff-48da-9886-48996a178110"
   },
   "outputs": [
    {
     "data": {
      "text/plain": [
       "(torch.uint8, torch.int64)"
      ]
     },
     "execution_count": 3,
     "metadata": {},
     "output_type": "execute_result"
    }
   ],
   "source": [
    "X_train.dtype, y_train.dtype"
   ]
  },
  {
   "cell_type": "code",
   "execution_count": 4,
   "metadata": {
    "colab": {},
    "colab_type": "code",
    "id": "_yTaVOrPvap6"
   },
   "outputs": [],
   "source": [
    "X_train = X_train.float()\n",
    "X_test = X_test.float()"
   ]
  },
  {
   "cell_type": "code",
   "execution_count": 5,
   "metadata": {
    "colab": {
     "base_uri": "https://localhost:8080/",
     "height": 35
    },
    "colab_type": "code",
    "id": "_gfupg4kpS3X",
    "outputId": "e72c3ff4-50f7-4695-d5d5-f838e7ac2667"
   },
   "outputs": [
    {
     "data": {
      "text/plain": [
       "(torch.Size([60000, 28, 28]), torch.Size([10000, 28, 28]))"
      ]
     },
     "execution_count": 5,
     "metadata": {},
     "output_type": "execute_result"
    }
   ],
   "source": [
    "X_train.shape, X_test.shape"
   ]
  },
  {
   "cell_type": "code",
   "execution_count": 6,
   "metadata": {
    "colab": {
     "base_uri": "https://localhost:8080/",
     "height": 35
    },
    "colab_type": "code",
    "id": "zEC1RXBEz_SW",
    "outputId": "48b9a605-2622-4188-b326-116b675bd499"
   },
   "outputs": [
    {
     "data": {
      "text/plain": [
       "(torch.Size([60000]), torch.Size([10000]))"
      ]
     },
     "execution_count": 6,
     "metadata": {},
     "output_type": "execute_result"
    }
   ],
   "source": [
    "y_train.shape, y_test.shape"
   ]
  },
  {
   "cell_type": "code",
   "execution_count": null,
   "metadata": {
    "colab": {
     "base_uri": "https://localhost:8080/",
     "height": 365
    },
    "colab_type": "code",
    "id": "Z1tFXMwJpS3e",
    "outputId": "e7c2778b-d6f5-4718-ea28-fc8544f0416c"
   },
   "outputs": [],
   "source": [
    "a = np.arange(10000)\n",
    "for i in range(100):    \n",
    "    num = np.random.choice(a, size=None, replace=False)\n",
    "    digit = X_test[num, :, :].numpy()\n",
    "    print(y_test[num].numpy())\n",
    "#     plt.imshow(digit)\n",
    "#     plt.show()\n",
    "    cv.imwrite(f\"bmp/img_{i}.bmp\", digit)"
   ]
  },
  {
   "cell_type": "code",
   "execution_count": 110,
   "metadata": {},
   "outputs": [],
   "source": [
    "np.savetxt(r'a_7', X_test[0, :, :].numpy().astype(int), fmt='%3d')"
   ]
  },
  {
   "cell_type": "code",
   "execution_count": 51,
   "metadata": {},
   "outputs": [
    {
     "data": {
      "text/plain": [
       "True"
      ]
     },
     "execution_count": 51,
     "metadata": {},
     "output_type": "execute_result"
    }
   ],
   "source": [
    "cv.imwrite(\"test_7.bmp\", X_test[0, :, :].numpy())"
   ]
  },
  {
   "cell_type": "code",
   "execution_count": null,
   "metadata": {},
   "outputs": [],
   "source": []
  },
  {
   "cell_type": "code",
   "execution_count": 7,
   "metadata": {
    "colab": {},
    "colab_type": "code",
    "id": "IUZgNg7zpS3j"
   },
   "outputs": [],
   "source": [
    "# transform into range 0..1\n",
    "normalize_divider = 255.0\n",
    "X_train = X_train.reshape([-1, 28 * 28])/normalize_divider\n",
    "X_test = X_test.reshape([-1, 28 * 28])/normalize_divider"
   ]
  },
  {
   "cell_type": "code",
   "execution_count": null,
   "metadata": {},
   "outputs": [],
   "source": []
  },
  {
   "cell_type": "code",
   "execution_count": 109,
   "metadata": {
    "colab": {},
    "colab_type": "code",
    "id": "k7l65slppS3l"
   },
   "outputs": [],
   "source": [
    "class MNISTNet(torch.nn.Module):\n",
    "    def __init__(self, n_hidden_neurons):\n",
    "        super(MNISTNet, self).__init__()\n",
    "        self.fc1 = torch.nn.Linear(28 * 28, n_hidden_neurons)\n",
    "        self.ac1 = torch.nn.Sigmoid()\n",
    "        self.fc2 = torch.nn.Linear(n_hidden_neurons, 10) \n",
    "    \n",
    "    def forward(self, x):\n",
    "        x = self.fc1(x)\n",
    "        x = self.ac1(x)\n",
    "        x = self.fc2(x)\n",
    "        return x\n",
    "    \n",
    "mnist_net = MNISTNet(100)"
   ]
  },
  {
   "cell_type": "code",
   "execution_count": 12,
   "metadata": {
    "colab": {},
    "colab_type": "code",
    "id": "k7l65slppS3l"
   },
   "outputs": [],
   "source": [
    "class MNISTNet2(torch.nn.Module):\n",
    "    def __init__(self):\n",
    "        super(MNISTNet2, self).__init__()\n",
    "        self.fc1 = torch.nn.Linear(28 * 28, 500)\n",
    "        self.ac1 = torch.nn.Sigmoid()\n",
    "        self.fc2 = torch.nn.Linear(500, 100)\n",
    "        self.ac2 = torch.nn.Sigmoid()\n",
    "        self.fc3 = torch.nn.Linear(100, 10) \n",
    "    \n",
    "    def forward(self, x):\n",
    "        x = self.fc1(x)\n",
    "        x = self.ac1(x)\n",
    "        x = self.fc2(x)\n",
    "        x = self.ac2(x)\n",
    "        x = self.fc3(x)\n",
    "        return x\n",
    "    \n",
    "mnist_net = MNISTNet2()"
   ]
  },
  {
   "cell_type": "code",
   "execution_count": 13,
   "metadata": {
    "colab": {},
    "colab_type": "code",
    "id": "00_2j2igpS3o"
   },
   "outputs": [],
   "source": [
    "loss = torch.nn.CrossEntropyLoss()\n",
    "optimizer = torch.optim.Adam(mnist_net.parameters(), lr=1.0e-3)"
   ]
  },
  {
   "cell_type": "code",
   "execution_count": 14,
   "metadata": {
    "colab": {},
    "colab_type": "code",
    "id": "wZtqiGvfpS3r"
   },
   "outputs": [
    {
     "name": "stdout",
     "output_type": "stream",
     "text": [
      "tensor(0.9290) 0\n",
      "tensor(0.9506) 1\n",
      "tensor(0.9616) 2\n",
      "tensor(0.9649) 3\n",
      "tensor(0.9725) 4\n",
      "tensor(0.9756) 5\n",
      "tensor(0.9767) 6\n",
      "tensor(0.9778) 7\n",
      "tensor(0.9794) 8\n",
      "tensor(0.9805) 9\n",
      "tensor(0.9783) 10\n",
      "tensor(0.9813) 11\n",
      "tensor(0.9824) 12\n",
      "tensor(0.9824) 13\n",
      "tensor(0.9798) 14\n",
      "tensor(0.9799) 15\n",
      "tensor(0.9820) 16\n",
      "tensor(0.9774) 17\n",
      "tensor(0.9809) 18\n",
      "tensor(0.9787) 19\n",
      "tensor(0.9818) 20\n",
      "tensor(0.9836) 21\n",
      "tensor(0.9827) 22\n",
      "tensor(0.9770) 23\n",
      "tensor(0.9811) 24\n",
      "tensor(0.9816) 25\n",
      "tensor(0.9805) 26\n",
      "tensor(0.9827) 27\n",
      "tensor(0.9832) 28\n",
      "tensor(0.9837) 29\n",
      "tensor(0.9833) 30\n",
      "tensor(0.9836) 31\n",
      "tensor(0.9834) 32\n",
      "tensor(0.9800) 33\n",
      "tensor(0.9835) 34\n",
      "tensor(0.9835) 35\n",
      "tensor(0.9836) 36\n",
      "tensor(0.9839) 37\n",
      "tensor(0.9839) 38\n",
      "tensor(0.9839) 39\n",
      "tensor(0.9830) 40\n",
      "tensor(0.9834) 41\n",
      "tensor(0.9828) 42\n",
      "tensor(0.9831) 43\n",
      "tensor(0.9836) 44\n",
      "tensor(0.9834) 45\n",
      "tensor(0.9836) 46\n",
      "tensor(0.9834) 47\n",
      "tensor(0.9842) 48\n",
      "tensor(0.9835) 49\n",
      "tensor(0.9839) 50\n",
      "tensor(0.9837) 51\n",
      "tensor(0.9835) 52\n",
      "tensor(0.9835) 53\n",
      "tensor(0.9839) 54\n",
      "tensor(0.9836) 55\n",
      "tensor(0.9840) 56\n",
      "tensor(0.9840) 57\n",
      "tensor(0.9838) 58\n",
      "tensor(0.9814) 59\n",
      "tensor(0.9827) 60\n",
      "tensor(0.9827) 61\n",
      "tensor(0.9831) 62\n",
      "tensor(0.9833) 63\n",
      "tensor(0.9833) 64\n",
      "tensor(0.9831) 65\n",
      "tensor(0.9833) 66\n",
      "tensor(0.9833) 67\n",
      "tensor(0.9835) 68\n",
      "tensor(0.9834) 69\n",
      "tensor(0.9834) 70\n",
      "tensor(0.9838) 71\n",
      "tensor(0.9836) 72\n",
      "tensor(0.9838) 73\n",
      "tensor(0.9838) 74\n",
      "tensor(0.9839) 75\n",
      "tensor(0.9834) 76\n",
      "tensor(0.9837) 77\n",
      "tensor(0.9844) 78\n",
      "tensor(0.9843) 79\n",
      "tensor(0.9838) 80\n",
      "tensor(0.9840) 81\n",
      "tensor(0.9842) 82\n",
      "tensor(0.9843) 83\n",
      "tensor(0.9840) 84\n",
      "tensor(0.9846) 85\n",
      "tensor(0.9846) 86\n",
      "tensor(0.9844) 87\n",
      "tensor(0.9843) 88\n",
      "tensor(0.9847) 89\n",
      "tensor(0.9840) 90\n",
      "tensor(0.9841) 91\n",
      "tensor(0.9843) 92\n",
      "tensor(0.9843) 93\n",
      "tensor(0.9842) 94\n",
      "tensor(0.9846) 95\n",
      "tensor(0.9843) 96\n",
      "tensor(0.9847) 97\n",
      "tensor(0.9845) 98\n",
      "tensor(0.9845) 99\n"
     ]
    }
   ],
   "source": [
    "epochs = 100\n",
    "batch_size = 100\n",
    "\n",
    "test_accuracy_history = []\n",
    "test_loss_history = []\n",
    "\n",
    "# X_test = X_test.to(device)\n",
    "# y_test = y_test.to(device)\n",
    "\n",
    "for epoch in range(epochs):\n",
    "    order = np.random.permutation(len(X_train))\n",
    "    \n",
    "    for start_index in range(0, len(X_train), batch_size):\n",
    "        optimizer.zero_grad()\n",
    "        \n",
    "        batch_indexes = order[start_index:start_index+batch_size]\n",
    "        \n",
    "        X_batch = X_train[batch_indexes] #.to(device)\n",
    "        y_batch = y_train[batch_indexes] #.to(device)\n",
    "        \n",
    "        preds = mnist_net.forward(X_batch) \n",
    "        \n",
    "        loss_value = loss(preds, y_batch)\n",
    "        loss_value.backward()\n",
    "        \n",
    "        optimizer.step()\n",
    "\n",
    "    test_preds = mnist_net.forward(X_test)\n",
    "    test_loss_history.append(loss(test_preds, y_test))\n",
    "    \n",
    "    accuracy = (test_preds.argmax(dim=1) == y_test).float().mean()\n",
    "    test_accuracy_history.append(accuracy)\n",
    "    print(accuracy, epoch)\n",
    "#     print([i.detach().numpy() for i in mnist_net.parameters()][2][0,:5]) "
   ]
  },
  {
   "cell_type": "code",
   "execution_count": 15,
   "metadata": {},
   "outputs": [],
   "source": [
    "p = [i.detach().numpy() for i in mnist_net.parameters()]"
   ]
  },
  {
   "cell_type": "code",
   "execution_count": 17,
   "metadata": {},
   "outputs": [
    {
     "name": "stdout",
     "output_type": "stream",
     "text": [
      "0 w (500, 784)\n",
      "0 b (500,)\n",
      "1 w (100, 500)\n",
      "1 b (100,)\n",
      "2 w (10, 100)\n",
      "2 b (10,)\n"
     ]
    }
   ],
   "source": [
    "for i, param in enumerate(p):\n",
    "    j = i//2\n",
    "    if i%2:\n",
    "        s = 'b'\n",
    "        path = r'params/bias/'\n",
    "        np.savetxt(path + f'b_{j}', param)\n",
    "    else:\n",
    "        s = 'w'\n",
    "        path = r'params/weight/'\n",
    "        np.savetxt(path + f'w_{j}', param.reshape(param.shape[0] * param.shape[1]))\n",
    "    print(j, s, param.shape)"
   ]
  },
  {
   "cell_type": "code",
   "execution_count": 18,
   "metadata": {},
   "outputs": [
    {
     "data": {
      "text/plain": [
       "tensor(0.9845)"
      ]
     },
     "execution_count": 18,
     "metadata": {},
     "output_type": "execute_result"
    }
   ],
   "source": [
    "(mnist_net.forward(X_test).argmax(dim=1)==y_test).float().mean()"
   ]
  },
  {
   "cell_type": "code",
   "execution_count": 19,
   "metadata": {
    "colab": {},
    "colab_type": "code",
    "id": "kLnumX3SpS3u"
   },
   "outputs": [
    {
     "data": {
      "image/png": "[encoded data removed]",
      "text/plain": [
       "<Figure size 432x288 with 1 Axes>"
      ]
     },
     "metadata": {
      "needs_background": "light"
     },
     "output_type": "display_data"
    }
   ],
   "source": [
    "plt.plot(test_accuracy_history)\n",
    "plt.plot(test_loss_history);"
   ]
  },
  {
   "cell_type": "code",
   "execution_count": null,
   "metadata": {
    "colab": {},
    "colab_type": "code",
    "id": "-nu1318JpS3y"
   },
   "outputs": [],
   "source": []
  }
 ],
 "metadata": {
  "accelerator": "GPU",
  "colab": {
   "collapsed_sections": [],
   "name": "Lesson 5 Digits Recognition Video.ipynb",
   "provenance": [],
   "version": "0.3.2"
  },
  "kernelspec": {
   "display_name": "Python 3",
   "language": "python",
   "name": "python3"
  },
  "language_info": {
   "codemirror_mode": {
    "name": "ipython",
    "version": 3
   },
   "file_extension": ".py",
   "mimetype": "text/x-python",
   "name": "python",
   "nbconvert_exporter": "python",
   "pygments_lexer": "ipython3",
   "version": "3.8.0"
  }
 },
 "nbformat": 4,
 "nbformat_minor": 4
}
